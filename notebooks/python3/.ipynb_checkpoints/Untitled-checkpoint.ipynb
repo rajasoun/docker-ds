{
 "cells": [
  {
   "cell_type": "markdown",
   "metadata": {},
   "source": [
    "## Install/Upgrade Packages"
   ]
  },
  {
   "cell_type": "code",
   "execution_count": 17,
   "metadata": {},
   "outputs": [
    {
     "name": "stdout",
     "output_type": "stream",
     "text": [
      "Requirement already up-to-date: plotly in /env/lib/python3.6/site-packages (3.1.1)\n",
      "Requirement already satisfied, skipping upgrade: six in /env/lib/python3.6/site-packages (from plotly) (1.11.0)\n",
      "Requirement already satisfied, skipping upgrade: retrying>=1.3.3 in /env/lib/python3.6/site-packages (from plotly) (1.3.3)\n",
      "Requirement already satisfied, skipping upgrade: decorator>=4.0.6 in /env/lib/python3.6/site-packages (from plotly) (4.3.0)\n",
      "Requirement already satisfied, skipping upgrade: nbformat>=4.2 in /env/lib/python3.6/site-packages (from plotly) (4.4.0)\n",
      "Requirement already satisfied, skipping upgrade: pytz in /env/lib/python3.6/site-packages (from plotly) (2018.5)\n",
      "Requirement already satisfied, skipping upgrade: requests in /env/lib/python3.6/site-packages (from plotly) (2.19.1)\n",
      "Requirement already satisfied, skipping upgrade: ipython-genutils in /env/lib/python3.6/site-packages (from nbformat>=4.2->plotly) (0.2.0)\n",
      "Requirement already satisfied, skipping upgrade: jsonschema!=2.5.0,>=2.4 in /env/lib/python3.6/site-packages (from nbformat>=4.2->plotly) (2.6.0)\n",
      "Requirement already satisfied, skipping upgrade: jupyter-core in /env/lib/python3.6/site-packages (from nbformat>=4.2->plotly) (4.4.0)\n",
      "Requirement already satisfied, skipping upgrade: traitlets>=4.1 in /env/lib/python3.6/site-packages (from nbformat>=4.2->plotly) (4.3.2)\n",
      "Requirement already satisfied, skipping upgrade: chardet<3.1.0,>=3.0.2 in /env/lib/python3.6/site-packages (from requests->plotly) (3.0.4)\n",
      "Requirement already satisfied, skipping upgrade: urllib3<1.24,>=1.21.1 in /env/lib/python3.6/site-packages (from requests->plotly) (1.23)\n",
      "Requirement already satisfied, skipping upgrade: certifi>=2017.4.17 in /env/lib/python3.6/site-packages (from requests->plotly) (2018.4.16)\n",
      "Requirement already satisfied, skipping upgrade: idna<2.8,>=2.5 in /env/lib/python3.6/site-packages (from requests->plotly) (2.7)\n"
     ]
    }
   ],
   "source": [
    "import sys\n",
    "!{sys.executable} -m pip install  --upgrade plotly"
   ]
  },
  {
   "cell_type": "markdown",
   "metadata": {},
   "source": [
    "## Load Packages"
   ]
  },
  {
   "cell_type": "code",
   "execution_count": 18,
   "metadata": {},
   "outputs": [],
   "source": [
    "import plotly.plotly as py\n",
    "import plotly.figure_factory as ff\n",
    "import pandas as pd"
   ]
  },
  {
   "cell_type": "markdown",
   "metadata": {},
   "source": [
    "## Load Data"
   ]
  },
  {
   "cell_type": "code",
   "execution_count": 19,
   "metadata": {},
   "outputs": [
    {
     "data": {
      "text/html": [
       "<div>\n",
       "<style scoped>\n",
       "    .dataframe tbody tr th:only-of-type {\n",
       "        vertical-align: middle;\n",
       "    }\n",
       "\n",
       "    .dataframe tbody tr th {\n",
       "        vertical-align: top;\n",
       "    }\n",
       "\n",
       "    .dataframe thead th {\n",
       "        text-align: right;\n",
       "    }\n",
       "</style>\n",
       "<table border=\"1\" class=\"dataframe\">\n",
       "  <thead>\n",
       "    <tr style=\"text-align: right;\">\n",
       "      <th></th>\n",
       "      <th>School</th>\n",
       "      <th>Women</th>\n",
       "      <th>Men</th>\n",
       "      <th>Gap</th>\n",
       "    </tr>\n",
       "  </thead>\n",
       "  <tbody>\n",
       "    <tr>\n",
       "      <th>0</th>\n",
       "      <td>MIT</td>\n",
       "      <td>94</td>\n",
       "      <td>152</td>\n",
       "      <td>58</td>\n",
       "    </tr>\n",
       "    <tr>\n",
       "      <th>1</th>\n",
       "      <td>Stanford</td>\n",
       "      <td>96</td>\n",
       "      <td>151</td>\n",
       "      <td>55</td>\n",
       "    </tr>\n",
       "    <tr>\n",
       "      <th>2</th>\n",
       "      <td>Harvard</td>\n",
       "      <td>112</td>\n",
       "      <td>165</td>\n",
       "      <td>53</td>\n",
       "    </tr>\n",
       "    <tr>\n",
       "      <th>3</th>\n",
       "      <td>U.Penn</td>\n",
       "      <td>92</td>\n",
       "      <td>141</td>\n",
       "      <td>49</td>\n",
       "    </tr>\n",
       "    <tr>\n",
       "      <th>4</th>\n",
       "      <td>Princeton</td>\n",
       "      <td>90</td>\n",
       "      <td>137</td>\n",
       "      <td>47</td>\n",
       "    </tr>\n",
       "  </tbody>\n",
       "</table>\n",
       "</div>"
      ],
      "text/plain": [
       "      School  Women  Men  Gap\n",
       "0        MIT     94  152   58\n",
       "1   Stanford     96  151   55\n",
       "2    Harvard    112  165   53\n",
       "3     U.Penn     92  141   49\n",
       "4  Princeton     90  137   47"
      ]
     },
     "execution_count": 19,
     "metadata": {},
     "output_type": "execute_result"
    }
   ],
   "source": [
    "df = pd.read_csv(\"https://raw.githubusercontent.com/plotly/datasets/master/school_earnings.csv\")\n",
    "df.head()"
   ]
  },
  {
   "cell_type": "code",
   "execution_count": null,
   "metadata": {},
   "outputs": [],
   "source": []
  }
 ],
 "metadata": {
  "kernelspec": {
   "display_name": "Python 3",
   "language": "python",
   "name": "python3"
  },
  "language_info": {
   "codemirror_mode": {
    "name": "ipython",
    "version": 3
   },
   "file_extension": ".py",
   "mimetype": "text/x-python",
   "name": "python",
   "nbconvert_exporter": "python",
   "pygments_lexer": "ipython3",
   "version": "3.6.4"
  }
 },
 "nbformat": 4,
 "nbformat_minor": 2
}
